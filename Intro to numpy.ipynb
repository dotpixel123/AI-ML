{
 "cells": [
  {
   "cell_type": "markdown",
   "id": "de9343b4",
   "metadata": {},
   "source": [
    "# Basic intro\n",
    "## Basic syntax and array methods"
   ]
  },
  {
   "cell_type": "code",
   "execution_count": 1,
   "id": "e169de6e",
   "metadata": {},
   "outputs": [],
   "source": [
    "import numpy as np"
   ]
  },
  {
   "cell_type": "code",
   "execution_count": 2,
   "id": "009922b3",
   "metadata": {},
   "outputs": [
    {
     "name": "stdout",
     "output_type": "stream",
     "text": [
      "[1 2 3]\n"
     ]
    }
   ],
   "source": [
    "a = np.array([1, 2, 3])\n",
    "print(a)"
   ]
  },
  {
   "cell_type": "code",
   "execution_count": 3,
   "id": "543722e6",
   "metadata": {},
   "outputs": [
    {
     "name": "stdout",
     "output_type": "stream",
     "text": [
      "[[1 3 4]\n",
      " [5 3 2]]\n"
     ]
    }
   ],
   "source": [
    "b = np.array([[1,3,4], [5,3,2]])\n",
    "print(b)"
   ]
  },
  {
   "cell_type": "code",
   "execution_count": 4,
   "id": "dbeca052",
   "metadata": {},
   "outputs": [
    {
     "data": {
      "text/plain": [
       "1"
      ]
     },
     "execution_count": 4,
     "metadata": {},
     "output_type": "execute_result"
    }
   ],
   "source": [
    "# to get dimension of an array\n",
    "a.ndim"
   ]
  },
  {
   "cell_type": "code",
   "execution_count": 5,
   "id": "6a31c2bd",
   "metadata": {},
   "outputs": [
    {
     "data": {
      "text/plain": [
       "2"
      ]
     },
     "execution_count": 5,
     "metadata": {},
     "output_type": "execute_result"
    }
   ],
   "source": [
    "b.ndim"
   ]
  },
  {
   "cell_type": "code",
   "execution_count": 6,
   "id": "8eb6f0de",
   "metadata": {},
   "outputs": [
    {
     "name": "stdout",
     "output_type": "stream",
     "text": [
      "(3,)\n",
      "(2, 3)\n"
     ]
    }
   ],
   "source": [
    "print(a.shape)\n",
    "print(b.shape)"
   ]
  },
  {
   "cell_type": "code",
   "execution_count": 7,
   "id": "32057ed6",
   "metadata": {},
   "outputs": [
    {
     "data": {
      "text/plain": [
       "array([[1, 3, 4],\n",
       "       [5, 3, 8]])"
      ]
     },
     "execution_count": 7,
     "metadata": {},
     "output_type": "execute_result"
    }
   ],
   "source": [
    "#get a specific element\n",
    "b[1,2]\n",
    "#change it\n",
    "b[1,2] = 8\n",
    "b"
   ]
  },
  {
   "cell_type": "code",
   "execution_count": 8,
   "id": "71f44cc7",
   "metadata": {},
   "outputs": [
    {
     "name": "stdout",
     "output_type": "stream",
     "text": [
      "[1 3 4]\n"
     ]
    }
   ],
   "source": [
    "print(b[0])"
   ]
  },
  {
   "cell_type": "code",
   "execution_count": 9,
   "id": "e00c8163",
   "metadata": {},
   "outputs": [
    {
     "name": "stdout",
     "output_type": "stream",
     "text": [
      "[4 8]\n"
     ]
    }
   ],
   "source": [
    "# Getting a specific column\n",
    "print(b[:, 2])"
   ]
  },
  {
   "cell_type": "code",
   "execution_count": 10,
   "id": "291ad073",
   "metadata": {},
   "outputs": [
    {
     "data": {
      "text/plain": [
       "array([[ 1,  3, 10],\n",
       "       [ 5,  3, 15]])"
      ]
     },
     "execution_count": 10,
     "metadata": {},
     "output_type": "execute_result"
    }
   ],
   "source": [
    "b[:, 2] = [10, 15]\n",
    "b"
   ]
  },
  {
   "cell_type": "code",
   "execution_count": 11,
   "id": "13a78828",
   "metadata": {},
   "outputs": [
    {
     "data": {
      "text/plain": [
       "array([0., 0., 0., 0.])"
      ]
     },
     "execution_count": 11,
     "metadata": {},
     "output_type": "execute_result"
    }
   ],
   "source": [
    "zero_list = np.zeros(4)\n",
    "zero_list"
   ]
  },
  {
   "cell_type": "markdown",
   "id": "269285fc",
   "metadata": {},
   "source": [
    "## Matrix methods "
   ]
  },
  {
   "cell_type": "code",
   "execution_count": 12,
   "id": "dc188a7c",
   "metadata": {},
   "outputs": [
    {
     "data": {
      "text/plain": [
       "array([[0., 0., 0.],\n",
       "       [0., 0., 0.],\n",
       "       [0., 0., 0.]])"
      ]
     },
     "execution_count": 12,
     "metadata": {},
     "output_type": "execute_result"
    }
   ],
   "source": [
    "# getting a 0 matrix\n",
    "np.zeros((3, 3))"
   ]
  },
  {
   "cell_type": "code",
   "execution_count": 13,
   "id": "b688aff9",
   "metadata": {},
   "outputs": [
    {
     "data": {
      "text/plain": [
       "array([[1., 0., 0., 0.],\n",
       "       [0., 1., 0., 0.],\n",
       "       [0., 0., 1., 0.],\n",
       "       [0., 0., 0., 1.]])"
      ]
     },
     "execution_count": 13,
     "metadata": {},
     "output_type": "execute_result"
    }
   ],
   "source": [
    "# generating a identity matrix\n",
    "np.identity(4)"
   ]
  },
  {
   "cell_type": "code",
   "execution_count": 14,
   "id": "530916ee",
   "metadata": {},
   "outputs": [
    {
     "data": {
      "text/plain": [
       "array([[5, 5, 5],\n",
       "       [5, 5, 5],\n",
       "       [5, 5, 5]])"
      ]
     },
     "execution_count": 14,
     "metadata": {},
     "output_type": "execute_result"
    }
   ],
   "source": [
    "# wanting a different number other than 0\n",
    "np.full((3,3), 5)"
   ]
  },
  {
   "cell_type": "code",
   "execution_count": 15,
   "id": "2c7c3784",
   "metadata": {},
   "outputs": [
    {
     "data": {
      "text/plain": [
       "array([[0.70702547, 0.43100647, 0.45965895, 0.32918601, 0.65733939],\n",
       "       [0.25987564, 0.30954497, 0.56588267, 0.15989181, 0.97869827]])"
      ]
     },
     "execution_count": 15,
     "metadata": {},
     "output_type": "execute_result"
    }
   ],
   "source": [
    "#Random numbers array\n",
    "np.random.rand(2, 5)\n",
    "# the parameters is the shape of the array and not the upper and lower limits"
   ]
  },
  {
   "cell_type": "code",
   "execution_count": 16,
   "id": "3782a70f",
   "metadata": {},
   "outputs": [
    {
     "data": {
      "text/plain": [
       "array([[4, 2, 5, 4, 2],\n",
       "       [4, 2, 4, 4, 3],\n",
       "       [3, 4, 5, 3, 5]])"
      ]
     },
     "execution_count": 16,
     "metadata": {},
     "output_type": "execute_result"
    }
   ],
   "source": [
    "#random interger \n",
    "np.random.randint(2,6, size = (3,5))"
   ]
  },
  {
   "cell_type": "code",
   "execution_count": 17,
   "id": "babdef3d",
   "metadata": {},
   "outputs": [
    {
     "name": "stdout",
     "output_type": "stream",
     "text": [
      "[[1 2 3]\n",
      " [1 2 3]\n",
      " [1 2 3]]\n",
      "[[1 1 1 2 2 2 3 3 3]]\n"
     ]
    }
   ],
   "source": [
    "# repeat an array\n",
    "arr = np.array([[1,2,3]])\n",
    "arr2 = np.repeat(arr, 3, axis = 0)\n",
    "arr3 = np.repeat(arr, 3, axis = 1)\n",
    "print(arr2)\n",
    "print(arr3)"
   ]
  },
  {
   "cell_type": "code",
   "execution_count": 18,
   "id": "28e17a9f",
   "metadata": {},
   "outputs": [
    {
     "name": "stdout",
     "output_type": "stream",
     "text": [
      "[[1 1 1 1 1]\n",
      " [1 0 0 0 1]\n",
      " [1 0 9 0 1]\n",
      " [1 0 0 0 1]\n",
      " [1 1 1 1 1]]\n"
     ]
    }
   ],
   "source": [
    "output = np.full((5,5), 1)\n",
    "z = np.zeros((3,3))\n",
    "z[1,1] = 9\n",
    "output[1:4, 1:4] = z\n",
    "print(output)"
   ]
  },
  {
   "cell_type": "markdown",
   "id": "2c326b33",
   "metadata": {},
   "source": [
    "## Copying an array"
   ]
  },
  {
   "cell_type": "markdown",
   "id": "ba433b10",
   "metadata": {},
   "source": [
    "#### Careful while copying an array!"
   ]
  },
  {
   "cell_type": "code",
   "execution_count": 19,
   "id": "81aac122",
   "metadata": {},
   "outputs": [
    {
     "name": "stdout",
     "output_type": "stream",
     "text": [
      "[100   2   3   4]\n",
      "[100   2   3   4]\n"
     ]
    }
   ],
   "source": [
    "a = np.array([1,2,3,4])\n",
    "b = a\n",
    "b[0] = 100\n",
    "print(b)\n",
    "print(a)"
   ]
  },
  {
   "cell_type": "markdown",
   "id": "9a7c5682",
   "metadata": {},
   "source": [
    "Here b = a basically says b points to a so changing any number in array b changes the original. b isn't a copy of a. **The same goes for lists.**"
   ]
  },
  {
   "cell_type": "code",
   "execution_count": 20,
   "id": "b1fc1f38",
   "metadata": {},
   "outputs": [
    {
     "name": "stdout",
     "output_type": "stream",
     "text": [
      "[100   2   3   4]\n",
      "[1 2 3 4]\n"
     ]
    }
   ],
   "source": [
    "a = np.array([1,2,3,4])\n",
    "b = a.copy()\n",
    "b[0] = 100\n",
    "print(b)\n",
    "print(a)"
   ]
  },
  {
   "cell_type": "markdown",
   "id": "2d0013eb",
   "metadata": {},
   "source": [
    "## Reorganizing arrays"
   ]
  },
  {
   "cell_type": "code",
   "execution_count": 21,
   "id": "aad69b75",
   "metadata": {},
   "outputs": [
    {
     "name": "stdout",
     "output_type": "stream",
     "text": [
      "[[1 2 3 4 5 6]\n",
      " [6 7 8 9 0 1]]\n",
      "[[1 2 3 4]\n",
      " [5 6 6 7]\n",
      " [8 9 0 1]]\n",
      "[[[1 2 3]\n",
      "  [4 5 6]]\n",
      "\n",
      " [[6 7 8]\n",
      "  [9 0 1]]]\n"
     ]
    }
   ],
   "source": [
    "# Changing shape of array\n",
    "before = np.array([[1,2,3,4,5,6],[6,7,8,9,0,1]])\n",
    "print (before)\n",
    "after = before.reshape(3,4)\n",
    "print (after)\n",
    "after2 = before.reshape(2,2,3)\n",
    "print(after2)"
   ]
  },
  {
   "cell_type": "code",
   "execution_count": 22,
   "id": "679b79d6",
   "metadata": {},
   "outputs": [
    {
     "data": {
      "text/plain": [
       "array([[1, 2, 3, 4],\n",
       "       [5, 6, 7, 8],\n",
       "       [5, 6, 7, 8]])"
      ]
     },
     "execution_count": 22,
     "metadata": {},
     "output_type": "execute_result"
    }
   ],
   "source": [
    "# vertical stack\n",
    "v1 = np.array([1,2,3,4])\n",
    "v2 = np.array([5,6,7,8])\n",
    "np.vstack([v1,v2,v2])"
   ]
  },
  {
   "cell_type": "code",
   "execution_count": 23,
   "id": "f13cef38",
   "metadata": {},
   "outputs": [
    {
     "data": {
      "text/plain": [
       "array([1, 2, 3, 4, 5, 6, 7, 8, 5, 6, 7, 8])"
      ]
     },
     "execution_count": 23,
     "metadata": {},
     "output_type": "execute_result"
    }
   ],
   "source": [
    "# horizontal array\n",
    "h1 = np.array([1,2,3,4])\n",
    "h2 = np.array([5,6,7,8])\n",
    "np.hstack([h1,h2,h2])"
   ]
  },
  {
   "cell_type": "markdown",
   "id": "098e12fa",
   "metadata": {},
   "source": [
    "## Loading data from file"
   ]
  },
  {
   "cell_type": "code",
   "execution_count": 24,
   "id": "4d4f5661",
   "metadata": {},
   "outputs": [
    {
     "name": "stdout",
     "output_type": "stream",
     "text": [
      "[  1.   2.   3.   4.   3.   5.   3.   2.   3.   4.   5.   2.   3.   4.\n",
      "  58. 382.  39.  58.  79.  80.]\n",
      "[  1   2   3   4   3   5   3   2   3   4   5   2   3   4  58 382  39  58\n",
      "  79  80]\n"
     ]
    }
   ],
   "source": [
    "filedata = np.genfromtxt('data.txt', delimiter=',')\n",
    "print(filedata)\n",
    "print(filedata.astype('int32'))"
   ]
  }
 ],
 "metadata": {
  "kernelspec": {
   "display_name": "Python 3 (ipykernel)",
   "language": "python",
   "name": "python3"
  },
  "language_info": {
   "codemirror_mode": {
    "name": "ipython",
    "version": 3
   },
   "file_extension": ".py",
   "mimetype": "text/x-python",
   "name": "python",
   "nbconvert_exporter": "python",
   "pygments_lexer": "ipython3",
   "version": "3.10.9"
  }
 },
 "nbformat": 4,
 "nbformat_minor": 5
}
