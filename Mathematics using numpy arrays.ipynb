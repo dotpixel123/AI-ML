{
 "cells": [
  {
   "cell_type": "markdown",
   "id": "db645339",
   "metadata": {},
   "source": [
    "# Mathematics \n",
    "## Some basic maths"
   ]
  },
  {
   "cell_type": "code",
   "execution_count": 1,
   "id": "ad2e0892",
   "metadata": {},
   "outputs": [],
   "source": [
    "import numpy as np\n",
    "a = np.array([1,2,3,4])"
   ]
  },
  {
   "cell_type": "code",
   "execution_count": 2,
   "id": "460bb73e",
   "metadata": {},
   "outputs": [
    {
     "name": "stdout",
     "output_type": "stream",
     "text": [
      "[3 4 5 6]\n"
     ]
    }
   ],
   "source": [
    "a = a+2\n",
    "print(a)"
   ]
  },
  {
   "cell_type": "code",
   "execution_count": 3,
   "id": "eaace2f4",
   "metadata": {},
   "outputs": [
    {
     "name": "stdout",
     "output_type": "stream",
     "text": [
      "[1 2 3 4]\n",
      "[ 3  6  9 12]\n"
     ]
    }
   ],
   "source": [
    "a = a-2\n",
    "print(a)\n",
    "a = a*3\n",
    "print(a)"
   ]
  },
  {
   "cell_type": "code",
   "execution_count": 4,
   "id": "03980847",
   "metadata": {},
   "outputs": [
    {
     "name": "stdout",
     "output_type": "stream",
     "text": [
      "[  9  36  81 144]\n"
     ]
    }
   ],
   "source": [
    "a = a ** 2\n",
    "print(a)"
   ]
  },
  {
   "cell_type": "code",
   "execution_count": 5,
   "id": "f177b8ca",
   "metadata": {},
   "outputs": [
    {
     "name": "stdout",
     "output_type": "stream",
     "text": [
      "[ 0.41211849 -0.99177885 -0.62988799 -0.49102159]\n"
     ]
    }
   ],
   "source": [
    "print(np.sin(a))"
   ]
  },
  {
   "cell_type": "code",
   "execution_count": 6,
   "id": "0ba827f5",
   "metadata": {},
   "outputs": [
    {
     "name": "stdout",
     "output_type": "stream",
     "text": [
      "[ 12  38  86 147]\n",
      "[ 27  72 405 432]\n",
      "[-0.2794155   0.52908269  0.56610764  0.36317137]\n"
     ]
    }
   ],
   "source": [
    "b = np.array([3,2,5,3])\n",
    "print(a + b)\n",
    "print(a*b)\n",
    "print(np.sin(a-b))"
   ]
  },
  {
   "cell_type": "markdown",
   "id": "0c4f65cd",
   "metadata": {},
   "source": [
    "## Linear algebra"
   ]
  },
  {
   "cell_type": "code",
   "execution_count": 7,
   "id": "a1ea8bb2",
   "metadata": {},
   "outputs": [
    {
     "name": "stdout",
     "output_type": "stream",
     "text": [
      "[[7 7]\n",
      " [4 5]\n",
      " [8 2]\n",
      " [3 2]]\n",
      "[[9 4 2]\n",
      " [5 9 7]]\n"
     ]
    }
   ],
   "source": [
    "a = np.random.randint(1, 10, (4, 2))\n",
    "b = np.random.randint(1, 10, (2, 3))\n",
    "print(a)\n",
    "print(b)"
   ]
  },
  {
   "cell_type": "code",
   "execution_count": 8,
   "id": "e61ee13b",
   "metadata": {},
   "outputs": [
    {
     "name": "stdout",
     "output_type": "stream",
     "text": [
      "[[98 91 63]\n",
      " [61 61 43]\n",
      " [82 50 30]\n",
      " [37 30 20]]\n"
     ]
    }
   ],
   "source": [
    "# matrix multiplication\n",
    "print(np.matmul(a,b))"
   ]
  },
  {
   "cell_type": "code",
   "execution_count": 9,
   "id": "872552f4",
   "metadata": {},
   "outputs": [
    {
     "data": {
      "text/plain": [
       "1.0"
      ]
     },
     "execution_count": 9,
     "metadata": {},
     "output_type": "execute_result"
    }
   ],
   "source": [
    "# find the determinant\n",
    "c = np.identity(3)\n",
    "np.linalg.det(c)\n",
    "# since the determinant value of identity matrix is 1"
   ]
  },
  {
   "cell_type": "markdown",
   "id": "417bccd5",
   "metadata": {},
   "source": [
    "## Statistics"
   ]
  },
  {
   "cell_type": "code",
   "execution_count": 10,
   "id": "c133d9b0",
   "metadata": {},
   "outputs": [],
   "source": [
    "stats = np.array([[1,2,3], [4,5,6]])"
   ]
  },
  {
   "cell_type": "code",
   "execution_count": 11,
   "id": "115b9ee6",
   "metadata": {},
   "outputs": [
    {
     "name": "stdout",
     "output_type": "stream",
     "text": [
      "[1 4]\n"
     ]
    }
   ],
   "source": [
    "print(np.min(stats, axis = 1))"
   ]
  },
  {
   "cell_type": "code",
   "execution_count": 12,
   "id": "efe02124",
   "metadata": {},
   "outputs": [
    {
     "name": "stdout",
     "output_type": "stream",
     "text": [
      "1\n",
      "6\n"
     ]
    }
   ],
   "source": [
    "print(np.min(stats))\n",
    "print(np.max(stats))"
   ]
  },
  {
   "cell_type": "code",
   "execution_count": 13,
   "id": "4f652caa",
   "metadata": {},
   "outputs": [
    {
     "name": "stdout",
     "output_type": "stream",
     "text": [
      "21\n"
     ]
    }
   ],
   "source": [
    "# sum of all elements in the array\n",
    "print(np.sum(stats))"
   ]
  }
 ],
 "metadata": {
  "kernelspec": {
   "display_name": "Python 3 (ipykernel)",
   "language": "python",
   "name": "python3"
  },
  "language_info": {
   "codemirror_mode": {
    "name": "ipython",
    "version": 3
   },
   "file_extension": ".py",
   "mimetype": "text/x-python",
   "name": "python",
   "nbconvert_exporter": "python",
   "pygments_lexer": "ipython3",
   "version": "3.10.9"
  }
 },
 "nbformat": 4,
 "nbformat_minor": 5
}
